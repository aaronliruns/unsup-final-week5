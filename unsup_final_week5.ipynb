{
 "nbformat": 4,
 "nbformat_minor": 0,
 "metadata": {
  "colab": {
   "name": "05_clustering.ipynb",
   "provenance": [],
   "collapsed_sections": [],
   "machine_shape": "hm"
  },
  "kernelspec": {
   "display_name": "Python 3",
   "language": "python",
   "name": "python3"
  },
  "language_info": {
   "codemirror_mode": {
    "name": "ipython",
    "version": 3
   },
   "file_extension": ".py",
   "mimetype": "text/x-python",
   "name": "python",
   "nbconvert_exporter": "python",
   "pygments_lexer": "ipython3",
   "version": "3.8.8"
  }
 },
 "cells": [
  {
   "cell_type": "markdown",
   "metadata": {
    "id": "VyPoiZ7hlGJC"
   },
   "source": [
    "# Unsupervised Algorithms in Machine Learning Final Project - Week 5\n",
    "### How dimensionality reduction improves clustering performance?\n",
    "### Aaron Li\n",
    "\n",
    "In this project we will build on some unsupervised learning concepts by implementing clustering, which attempts to group objects together based on similarity. With unsupervised models, clustering achieves this without using any labels. MNIST (Mixed National Institute of Standards and Technology) database of handwritten digits will be used for the exercises."
   ]
  },
  {
   "cell_type": "markdown",
   "metadata": {
    "id": "e6dD3B1pvrnh"
   },
   "source": [
    "### Import necessary libraries"
   ]
  },
  {
   "cell_type": "code",
   "metadata": {
    "id": "GD169yYgvvpF",
    "executionInfo": {
     "status": "ok",
     "timestamp": 1620243377946,
     "user_tz": 240,
     "elapsed": 6415,
     "user": {
      "displayName": "Ankur Patel",
      "photoUrl": "https://lh3.googleusercontent.com/a-/AOh14GjuyT9p2uQcITYiB6Ja4gdHeMPvvVZ_RNUvS_DFuY0=s64",
      "userId": "08322043083056308084"
     }
    }
   },
   "source": [
    "# Basics\n",
    "import numpy as np\n",
    "import pandas as pd\n",
    "import os, time\n",
    "import pickle, gzip\n",
    "\n",
    "# Data visualization\n",
    "import matplotlib.pyplot as plt\n",
    "import matplotlib as mpl\n",
    "import seaborn as sns\n",
    "color = sns.color_palette()\n",
    "%matplotlib inline\n",
    "\n",
    "# EDA and metrics\n",
    "from sklearn import preprocessing as pp\n",
    "from sklearn.model_selection import train_test_split \n",
    "from sklearn.metrics import precision_recall_curve, average_precision_score\n",
    "from sklearn.metrics import roc_curve, auc, roc_auc_score\n",
    "\n",
    "# Algorithms\n",
    "from sklearn.decomposition import PCA\n",
    "from sklearn.cluster import KMeans"
   ],
   "execution_count": 1,
   "outputs": []
  },
  {
   "cell_type": "markdown",
   "metadata": {
    "id": "iYsjTQRjv0Hg"
   },
   "source": [
    "### Load Data from pickle package and separate them into Train, Validation and Test datasets"
   ]
  },
  {
   "cell_type": "code",
   "metadata": {
    "id": "A1aWOf7-vkyG",
    "executionInfo": {
     "status": "ok",
     "timestamp": 1620243378878,
     "user_tz": 240,
     "elapsed": 7345,
     "user": {
      "displayName": "Ankur Patel",
      "photoUrl": "https://lh3.googleusercontent.com/a-/AOh14GjuyT9p2uQcITYiB6Ja4gdHeMPvvVZ_RNUvS_DFuY0=s64",
      "userId": "08322043083056308084"
     }
    }
   },
   "source": [
    "# Load mnist data from pickle package\n",
    "current_path = os.getcwd()\n",
    "file = os.path.sep.join(['', 'data', 'mnist.pkl.gz'])\n",
    "\n",
    "f = gzip.open(current_path+file, 'rb')\n",
    "train_set, validation_set, test_set = pickle.load(f, encoding='latin1')\n",
    "f.close()\n",
    "\n",
    "X_train, y_train = train_set[0], train_set[1]\n",
    "X_validation, y_validation = validation_set[0], validation_set[1]\n",
    "X_test, y_test = test_set[0], test_set[1]"
   ],
   "execution_count": 2,
   "outputs": []
  },
  {
   "cell_type": "code",
   "metadata": {
    "id": "y2l5FPOTvkyH",
    "executionInfo": {
     "status": "ok",
     "timestamp": 1620243378878,
     "user_tz": 240,
     "elapsed": 7344,
     "user": {
      "displayName": "Ankur Patel",
      "photoUrl": "https://lh3.googleusercontent.com/a-/AOh14GjuyT9p2uQcITYiB6Ja4gdHeMPvvVZ_RNUvS_DFuY0=s64",
      "userId": "08322043083056308084"
     }
    }
   },
   "source": [
    "# Load datasets into Pandas dataframes\n",
    "train_index = range(0,len(X_train))\n",
    "validation_index = range(len(X_train), \\\n",
    "                         len(X_train)+len(X_validation))\n",
    "test_index = range(len(X_train)+len(X_validation), \\\n",
    "                   len(X_train)+len(X_validation)+len(X_test))\n",
    "\n",
    "X_train = pd.DataFrame(data=X_train,index=train_index)\n",
    "y_train = pd.Series(data=y_train,index=train_index)\n",
    "\n",
    "X_validation = pd.DataFrame(data=X_validation,index=validation_index)\n",
    "y_validation = pd.Series(data=y_validation,index=validation_index)\n",
    "\n",
    "X_test = pd.DataFrame(data=X_test,index=test_index)\n",
    "y_test = pd.Series(data=y_test,index=test_index)\n",
    "\n",
    "print(\"X_train.shape:\",X_train.shape, \"y_train.shape:\",y_train.shape)\n",
    "print(\"X_validation.shape:\",X_validation.shape, \"y_validation.shape:\",y_validation.shape)\n",
    "print(\"X_test.shape:\",X_test.shape, \"y_test.shape:\",y_test.shape)"
   ],
   "execution_count": 3,
   "outputs": [
    {
     "name": "stdout",
     "output_type": "stream",
     "text": [
      "X_train.shape: (50000, 784) y_train.shape: (50000,)\n",
      "X_validation.shape: (10000, 784) y_validation.shape: (10000,)\n",
      "X_test.shape: (10000, 784) y_test.shape: (10000,)\n"
     ]
    }
   ]
  },
  {
   "cell_type": "code",
   "execution_count": 4,
   "outputs": [
    {
     "name": "stdout",
     "output_type": "stream",
     "text": [
      "<class 'pandas.core.frame.DataFrame'>\n",
      "RangeIndex: 50000 entries, 0 to 49999\n",
      "Columns: 784 entries, 0 to 783\n",
      "dtypes: float32(784)\n",
      "memory usage: 149.5 MB\n"
     ]
    }
   ],
   "source": [
    "X_train.info()"
   ],
   "metadata": {
    "collapsed": false
   }
  },
  {
   "cell_type": "code",
   "execution_count": 5,
   "outputs": [
    {
     "name": "stdout",
     "output_type": "stream",
     "text": [
      "<class 'pandas.core.series.Series'>\n",
      "RangeIndex: 50000 entries, 0 to 49999\n",
      "Series name: None\n",
      "Non-Null Count  Dtype\n",
      "--------------  -----\n",
      "50000 non-null  int64\n",
      "dtypes: int64(1)\n",
      "memory usage: 390.8 KB\n"
     ]
    }
   ],
   "source": [
    "y_train.info()"
   ],
   "metadata": {
    "collapsed": false
   }
  },
  {
   "cell_type": "markdown",
   "source": [
    "This dataset has been divided into three sets—a training set with 50,000 examples, a validation set with 10,000 examples, and a test set with 10,000 examples. We have labels for all the examples.\n",
    "\n",
    "This dataset consists of 28x28 pixel images of handwritten digits. Every single data point (i.e., every image) can be conveyed as an array of numbers, where each number describes how dark each pixel is. In other words, a 28x28 array of numbers corresponds to a 28x28 pixel image.\n",
    "\n",
    "To make this simpler, we can flatten each array into a 28x28, or 784, dimensional vector. Each component of the vector is a float between zero and one—representing the intensity of each pixel in the image. Zero stands for black; one stands for white. The labels are numbers between zero and nine, and indicate which digit the image represents."
   ],
   "metadata": {
    "collapsed": false
   }
  },
  {
   "cell_type": "code",
   "execution_count": 6,
   "outputs": [
    {
     "data": {
      "text/plain": "   120  121  122  123  124  125  126       127       128       129       130  \\\n0  0.0  0.0  0.0  0.0  0.0  0.0  0.0  0.000000  0.000000  0.000000  0.000000   \n1  0.0  0.0  0.0  0.0  0.0  0.0  0.0  0.199219  0.621094  0.988281  0.621094   \n2  0.0  0.0  0.0  0.0  0.0  0.0  0.0  0.000000  0.000000  0.000000  0.000000   \n3  0.0  0.0  0.0  0.0  0.0  0.0  0.0  0.000000  0.000000  0.000000  0.000000   \n4  0.0  0.0  0.0  0.0  0.0  0.0  0.0  0.000000  0.000000  0.000000  0.000000   \n\n        131  132  133  134  135  \n0  0.000000  0.0  0.0  0.0  0.0  \n1  0.195312  0.0  0.0  0.0  0.0  \n2  0.000000  0.0  0.0  0.0  0.0  \n3  0.000000  0.0  0.0  0.0  0.0  \n4  0.000000  0.0  0.0  0.0  0.0  ",
      "text/html": "<div>\n<style scoped>\n    .dataframe tbody tr th:only-of-type {\n        vertical-align: middle;\n    }\n\n    .dataframe tbody tr th {\n        vertical-align: top;\n    }\n\n    .dataframe thead th {\n        text-align: right;\n    }\n</style>\n<table border=\"1\" class=\"dataframe\">\n  <thead>\n    <tr style=\"text-align: right;\">\n      <th></th>\n      <th>120</th>\n      <th>121</th>\n      <th>122</th>\n      <th>123</th>\n      <th>124</th>\n      <th>125</th>\n      <th>126</th>\n      <th>127</th>\n      <th>128</th>\n      <th>129</th>\n      <th>130</th>\n      <th>131</th>\n      <th>132</th>\n      <th>133</th>\n      <th>134</th>\n      <th>135</th>\n    </tr>\n  </thead>\n  <tbody>\n    <tr>\n      <th>0</th>\n      <td>0.0</td>\n      <td>0.0</td>\n      <td>0.0</td>\n      <td>0.0</td>\n      <td>0.0</td>\n      <td>0.0</td>\n      <td>0.0</td>\n      <td>0.000000</td>\n      <td>0.000000</td>\n      <td>0.000000</td>\n      <td>0.000000</td>\n      <td>0.000000</td>\n      <td>0.0</td>\n      <td>0.0</td>\n      <td>0.0</td>\n      <td>0.0</td>\n    </tr>\n    <tr>\n      <th>1</th>\n      <td>0.0</td>\n      <td>0.0</td>\n      <td>0.0</td>\n      <td>0.0</td>\n      <td>0.0</td>\n      <td>0.0</td>\n      <td>0.0</td>\n      <td>0.199219</td>\n      <td>0.621094</td>\n      <td>0.988281</td>\n      <td>0.621094</td>\n      <td>0.195312</td>\n      <td>0.0</td>\n      <td>0.0</td>\n      <td>0.0</td>\n      <td>0.0</td>\n    </tr>\n    <tr>\n      <th>2</th>\n      <td>0.0</td>\n      <td>0.0</td>\n      <td>0.0</td>\n      <td>0.0</td>\n      <td>0.0</td>\n      <td>0.0</td>\n      <td>0.0</td>\n      <td>0.000000</td>\n      <td>0.000000</td>\n      <td>0.000000</td>\n      <td>0.000000</td>\n      <td>0.000000</td>\n      <td>0.0</td>\n      <td>0.0</td>\n      <td>0.0</td>\n      <td>0.0</td>\n    </tr>\n    <tr>\n      <th>3</th>\n      <td>0.0</td>\n      <td>0.0</td>\n      <td>0.0</td>\n      <td>0.0</td>\n      <td>0.0</td>\n      <td>0.0</td>\n      <td>0.0</td>\n      <td>0.000000</td>\n      <td>0.000000</td>\n      <td>0.000000</td>\n      <td>0.000000</td>\n      <td>0.000000</td>\n      <td>0.0</td>\n      <td>0.0</td>\n      <td>0.0</td>\n      <td>0.0</td>\n    </tr>\n    <tr>\n      <th>4</th>\n      <td>0.0</td>\n      <td>0.0</td>\n      <td>0.0</td>\n      <td>0.0</td>\n      <td>0.0</td>\n      <td>0.0</td>\n      <td>0.0</td>\n      <td>0.000000</td>\n      <td>0.000000</td>\n      <td>0.000000</td>\n      <td>0.000000</td>\n      <td>0.000000</td>\n      <td>0.0</td>\n      <td>0.0</td>\n      <td>0.0</td>\n      <td>0.0</td>\n    </tr>\n  </tbody>\n</table>\n</div>"
     },
     "execution_count": 6,
     "metadata": {},
     "output_type": "execute_result"
    }
   ],
   "source": [
    "X_train.head().iloc[:, 120:136]"
   ],
   "metadata": {
    "collapsed": false
   }
  },
  {
   "cell_type": "markdown",
   "metadata": {
    "id": "hbbxN_HQxBU0"
   },
   "source": [
    "### PCA Dimensionality Reduction\n",
    "We are not reducing the dimensionality below, but will change the number of the components in later sections."
   ]
  },
  {
   "cell_type": "code",
   "metadata": {
    "id": "ifzdK4XevkyH",
    "executionInfo": {
     "status": "ok",
     "timestamp": 1620243381840,
     "user_tz": 240,
     "elapsed": 10304,
     "user": {
      "displayName": "Ankur Patel",
      "photoUrl": "https://lh3.googleusercontent.com/a-/AOh14GjuyT9p2uQcITYiB6Ja4gdHeMPvvVZ_RNUvS_DFuY0=s64",
      "userId": "08322043083056308084"
     }
    }
   },
   "source": [
    "# Principal Component Analysis\n",
    "from sklearn.decomposition import PCA\n",
    "\n",
    "n_components = 784\n",
    "whiten = False\n",
    "random_state = 2022\n",
    "\n",
    "# Whitening will remove some information from the transformed signal (the relative variance scales of the components) but can sometime improve the predictive accuracy of the downstream estimators by making their data respect some hard-wired assumptions.\n",
    "pca = PCA(n_components=n_components, whiten=whiten, \\\n",
    "          random_state=random_state)\n",
    "\n",
    "X_train_PCA = pca.fit_transform(X_train)\n",
    "X_train_PCA = pd.DataFrame(data=X_train_PCA, index=train_index)\n",
    "print(\"X_train_PCA.shape:\",X_train_PCA.shape)"
   ],
   "execution_count": 7,
   "outputs": [
    {
     "name": "stdout",
     "output_type": "stream",
     "text": [
      "X_train_PCA.shape: (50000, 784)\n"
     ]
    }
   ]
  },
  {
   "cell_type": "markdown",
   "metadata": {
    "id": "TEBuUxhixEdQ"
   },
   "source": [
    "### Clustering - K-means"
   ]
  },
  {
   "cell_type": "markdown",
   "metadata": {
    "id": "59Zy1drHZSHP"
   },
   "source": [
    "The objective of clustering is to identify distinct groups in a dataset such that the observations within a group are similar to each other but different from observations in other groups. In k-means clustering, we specify the number of desired clusters k, and the algorithm will assign each observation to exactly one of these k clusters. We will keep the default values for number of initializations (10), maximum number of iterations (300), and tolerance (0.0001).\n",
    "For now, we will use the first 100 principal components from PCA. To test how the number of clusters we designate affects the inertia measure, let’s run k-means for cluster sizes 2 through 20 and record the inertia for each."
   ]
  },
  {
   "cell_type": "code",
   "metadata": {
    "id": "zbhqZ_GYvkyH",
    "executionInfo": {
     "status": "ok",
     "timestamp": 1620243619420,
     "user_tz": 240,
     "elapsed": 247879,
     "user": {
      "displayName": "Ankur Patel",
      "photoUrl": "https://lh3.googleusercontent.com/a-/AOh14GjuyT9p2uQcITYiB6Ja4gdHeMPvvVZ_RNUvS_DFuY0=s64",
      "userId": "08322043083056308084"
     }
    }
   },
   "source": [
    "# K-means - Inertia as the number of clusters varies\n",
    "from sklearn.cluster import KMeans\n",
    "\n",
    "n_clusters = 10\n",
    "n_init = 10\n",
    "max_iter = 300\n",
    "tol = 0.0001\n",
    "\n",
    "kMeans_inertia = pd.DataFrame(data=[],index=range(2,21), \\\n",
    "                              columns=['inertia'])\n",
    "for n_clusters in range(2,21):\n",
    "    kmeans = KMeans(n_clusters=n_clusters, n_init=n_init, \\\n",
    "                max_iter=max_iter, tol=tol, random_state=random_state)\n",
    "\n",
    "    cutoff = 99\n",
    "    kmeans.fit(X_train_PCA.loc[:,0:cutoff])\n",
    "    kMeans_inertia.loc[n_clusters] = kmeans.inertia_"
   ],
   "execution_count": 8,
   "outputs": []
  },
  {
   "cell_type": "code",
   "metadata": {
    "colab": {
     "base_uri": "https://localhost:8080/",
     "height": 293
    },
    "id": "PkOK-ISHvkyI",
    "executionInfo": {
     "status": "ok",
     "timestamp": 1620243619647,
     "user_tz": 240,
     "elapsed": 248098,
     "user": {
      "displayName": "Ankur Patel",
      "photoUrl": "https://lh3.googleusercontent.com/a-/AOh14GjuyT9p2uQcITYiB6Ja4gdHeMPvvVZ_RNUvS_DFuY0=s64",
      "userId": "08322043083056308084"
     }
    },
    "outputId": "3c4a6868-714c-4d74-e31d-01cf1dd581ec"
   },
   "source": [
    "# Plot inertia relative to k # of clusters\n",
    "kMeans_inertia.plot()"
   ],
   "execution_count": 9,
   "outputs": [
    {
     "data": {
      "text/plain": "<AxesSubplot:>"
     },
     "execution_count": 9,
     "metadata": {},
     "output_type": "execute_result"
    },
    {
     "data": {
      "text/plain": "<Figure size 432x288 with 1 Axes>",
      "image/png": "[encoded data removed]"
     },
     "metadata": {
      "needs_background": "light"
     },
     "output_type": "display_data"
    }
   ]
  },
  {
   "cell_type": "markdown",
   "source": [
    "The inertia decreases as the number of clusters increases. This makes sense. The more clusters we have, the greater the homogeneity among observations within each cluster. However, fewer clusters are easier to work with than more, so finding the right number of clusters to generate is an important consideration when running k-means."
   ],
   "metadata": {
    "collapsed": false
   }
  },
  {
   "cell_type": "markdown",
   "metadata": {
    "id": "VF2BaLdGZU7G"
   },
   "source": [
    "### Accuracy analysis\n",
    "Let’s define a function to analyze the results of each experiment we do. The cluster assignments—generated by the clustering algorithm—will be stored in a Pandas DataFrame called clusterDF."
   ]
  },
  {
   "cell_type": "code",
   "metadata": {
    "id": "1hoJBmiWvkyJ",
    "executionInfo": {
     "status": "ok",
     "timestamp": 1620243619648,
     "user_tz": 240,
     "elapsed": 248092,
     "user": {
      "displayName": "Ankur Patel",
      "photoUrl": "https://lh3.googleusercontent.com/a-/AOh14GjuyT9p2uQcITYiB6Ja4gdHeMPvvVZ_RNUvS_DFuY0=s64",
      "userId": "08322043083056308084"
     }
    }
   },
   "source": [
    "# Define analyze cluster function\n",
    "def analyzeCluster(clusterDF, labelsDF):\n",
    "    countByCluster = \\\n",
    "        pd.DataFrame(data=clusterDF['cluster'].value_counts())\n",
    "    countByCluster.reset_index(inplace=True,drop=False)\n",
    "    countByCluster.columns = ['cluster','clusterCount']\n",
    "        \n",
    "    preds = pd.concat([labelsDF,clusterDF], axis=1)\n",
    "    preds.columns = ['trueLabel','cluster']\n",
    "    \n",
    "    countByLabel = pd.DataFrame(data=preds.groupby('trueLabel').count())\n",
    "        \n",
    "    countMostFreq = \\\n",
    "        pd.DataFrame(data=preds.groupby('cluster').agg( \\\n",
    "                        lambda x:x.value_counts().iloc[0]))\n",
    "    countMostFreq.reset_index(inplace=True,drop=False)\n",
    "    countMostFreq.columns = ['cluster','countMostFrequent']\n",
    "    \n",
    "    accuracyDF = countMostFreq.merge(countByCluster, \\\n",
    "                        left_on=\"cluster\",right_on=\"cluster\")\n",
    "    overallAccuracy = accuracyDF.countMostFrequent.sum()/ \\\n",
    "                        accuracyDF.clusterCount.sum()\n",
    "    \n",
    "    accuracyByLabel = accuracyDF.countMostFrequent/ \\\n",
    "                        accuracyDF.clusterCount\n",
    "    \n",
    "    return countByCluster, countByLabel, countMostFreq, \\\n",
    "            accuracyDF, overallAccuracy, accuracyByLabel"
   ],
   "execution_count": 10,
   "outputs": []
  },
  {
   "cell_type": "markdown",
   "source": [
    "### Accuracy as number of clusters varies\n",
    "Instead of calculating inertia, we will calculate the overall homogeneity of the clusters based on the accuracy measure we’ve defined for this MNIST digits dataset:"
   ],
   "metadata": {
    "collapsed": false
   }
  },
  {
   "cell_type": "code",
   "metadata": {
    "id": "xuJn14HnvkyJ",
    "executionInfo": {
     "status": "ok",
     "timestamp": 1620243856645,
     "user_tz": 240,
     "elapsed": 485087,
     "user": {
      "displayName": "Ankur Patel",
      "photoUrl": "https://lh3.googleusercontent.com/a-/AOh14GjuyT9p2uQcITYiB6Ja4gdHeMPvvVZ_RNUvS_DFuY0=s64",
      "userId": "08322043083056308084"
     }
    }
   },
   "source": [
    "# K-means - Accuracy as the number of clusters varies\n",
    "\n",
    "n_clusters = 5\n",
    "n_init = 10\n",
    "max_iter = 300\n",
    "tol = 0.0001\n",
    "\n",
    "kMeans_inertia = \\\n",
    "    pd.DataFrame(data=[],index=range(2,21),columns=['inertia'])\n",
    "overallAccuracy_kMeansDF = \\\n",
    "    pd.DataFrame(data=[],index=range(2,21),columns=['overallAccuracy'])\n",
    "\n",
    "for n_clusters in range(2,21):\n",
    "    kmeans = KMeans(n_clusters=n_clusters, n_init=n_init, \\\n",
    "                max_iter=max_iter, tol=tol, random_state=random_state)\n",
    "\n",
    "    cutoff = 99\n",
    "    kmeans.fit(X_train_PCA.loc[:,0:cutoff])\n",
    "    kMeans_inertia.loc[n_clusters] = kmeans.inertia_\n",
    "    X_train_kmeansClustered = kmeans.predict(X_train_PCA.loc[:,0:cutoff])\n",
    "    X_train_kmeansClustered = \\\n",
    "        pd.DataFrame(data=X_train_kmeansClustered, index=X_train.index, \\\n",
    "                     columns=['cluster'])\n",
    "    \n",
    "    countByCluster_kMeans, countByLabel_kMeans, countMostFreq_kMeans, \\\n",
    "        accuracyDF_kMeans, overallAccuracy_kMeans, accuracyByLabel_kMeans \\\n",
    "        = analyzeCluster(X_train_kmeansClustered, y_train)\n",
    "    \n",
    "    overallAccuracy_kMeansDF.loc[n_clusters] = overallAccuracy_kMeans"
   ],
   "execution_count": 11,
   "outputs": []
  },
  {
   "cell_type": "code",
   "metadata": {
    "colab": {
     "base_uri": "https://localhost:8080/",
     "height": 283
    },
    "id": "NImgOnSWvkyK",
    "scrolled": true,
    "executionInfo": {
     "status": "ok",
     "timestamp": 1620243856648,
     "user_tz": 240,
     "elapsed": 485089,
     "user": {
      "displayName": "Ankur Patel",
      "photoUrl": "https://lh3.googleusercontent.com/a-/AOh14GjuyT9p2uQcITYiB6Ja4gdHeMPvvVZ_RNUvS_DFuY0=s64",
      "userId": "08322043083056308084"
     }
    },
    "outputId": "ebfe427a-20ee-404c-930a-7d39d16330b7"
   },
   "source": [
    "# Plot accuracy\n",
    "overallAccuracy_kMeansDF.plot()"
   ],
   "execution_count": 12,
   "outputs": [
    {
     "data": {
      "text/plain": "<AxesSubplot:>"
     },
     "execution_count": 12,
     "metadata": {},
     "output_type": "execute_result"
    },
    {
     "data": {
      "text/plain": "<Figure size 432x288 with 1 Axes>",
      "image/png": "[encoded data removed]"
     },
     "metadata": {
      "needs_background": "light"
     },
     "output_type": "display_data"
    }
   ]
  },
  {
   "cell_type": "markdown",
   "source": [
    "The accuracy improves as the number of clusters increases. In other words, clusters become more homogeneous as we increase the number of clusters because each cluster becomes smaller and more tightly formed.\n",
    "In some clusters, over 90% of the images have the same digit; in other clusters, less than 50% of the images have the same digit:"
   ],
   "metadata": {
    "collapsed": false
   }
  },
  {
   "cell_type": "code",
   "metadata": {
    "colab": {
     "base_uri": "https://localhost:8080/"
    },
    "id": "l33Rnt81vkyK",
    "executionInfo": {
     "status": "ok",
     "timestamp": 1620243857003,
     "user_tz": 240,
     "elapsed": 485436,
     "user": {
      "displayName": "Ankur Patel",
      "photoUrl": "https://lh3.googleusercontent.com/a-/AOh14GjuyT9p2uQcITYiB6Ja4gdHeMPvvVZ_RNUvS_DFuY0=s64",
      "userId": "08322043083056308084"
     }
    },
    "outputId": "2da3386a-9478-4ee6-a84c-ee6599712005"
   },
   "source": [
    "# Accuracy by cluster\n",
    "accuracyByLabel_kMeans"
   ],
   "execution_count": 13,
   "outputs": [
    {
     "data": {
      "text/plain": "0     0.456813\n1     0.944000\n2     0.635368\n3     0.500539\n4     0.928738\n5     0.956995\n6     0.380699\n7     0.402020\n8     0.873449\n9     0.849296\n10    0.587969\n11    0.520331\n12    0.889807\n13    0.932331\n14    0.843784\n15    0.780171\n16    0.916667\n17    0.710207\n18    0.461870\n19    0.951499\ndtype: float64"
     },
     "execution_count": 13,
     "metadata": {},
     "output_type": "execute_result"
    }
   ]
  },
  {
   "cell_type": "markdown",
   "source": [
    "Let's take a look at predicted clusters for train dataset:"
   ],
   "metadata": {
    "collapsed": false
   }
  },
  {
   "cell_type": "code",
   "metadata": {
    "colab": {
     "base_uri": "https://localhost:8080/",
     "height": 427
    },
    "id": "VBbpLQN7dzDF",
    "executionInfo": {
     "status": "ok",
     "timestamp": 1620243857005,
     "user_tz": 240,
     "elapsed": 485430,
     "user": {
      "displayName": "Ankur Patel",
      "photoUrl": "https://lh3.googleusercontent.com/a-/AOh14GjuyT9p2uQcITYiB6Ja4gdHeMPvvVZ_RNUvS_DFuY0=s64",
      "userId": "08322043083056308084"
     }
    },
    "outputId": "59f80a28-8307-4a4e-8dd3-4d19428af7a5"
   },
   "source": [
    "# View cluster labels\n",
    "X_train_kmeansClustered"
   ],
   "execution_count": 14,
   "outputs": [
    {
     "data": {
      "text/plain": "       cluster\n0           17\n1           13\n2            0\n3            9\n4            6\n...        ...\n49995        3\n49996        5\n49997        7\n49998       18\n49999        7\n\n[50000 rows x 1 columns]",
      "text/html": "<div>\n<style scoped>\n    .dataframe tbody tr th:only-of-type {\n        vertical-align: middle;\n    }\n\n    .dataframe tbody tr th {\n        vertical-align: top;\n    }\n\n    .dataframe thead th {\n        text-align: right;\n    }\n</style>\n<table border=\"1\" class=\"dataframe\">\n  <thead>\n    <tr style=\"text-align: right;\">\n      <th></th>\n      <th>cluster</th>\n    </tr>\n  </thead>\n  <tbody>\n    <tr>\n      <th>0</th>\n      <td>17</td>\n    </tr>\n    <tr>\n      <th>1</th>\n      <td>13</td>\n    </tr>\n    <tr>\n      <th>2</th>\n      <td>0</td>\n    </tr>\n    <tr>\n      <th>3</th>\n      <td>9</td>\n    </tr>\n    <tr>\n      <th>4</th>\n      <td>6</td>\n    </tr>\n    <tr>\n      <th>...</th>\n      <td>...</td>\n    </tr>\n    <tr>\n      <th>49995</th>\n      <td>3</td>\n    </tr>\n    <tr>\n      <th>49996</th>\n      <td>5</td>\n    </tr>\n    <tr>\n      <th>49997</th>\n      <td>7</td>\n    </tr>\n    <tr>\n      <th>49998</th>\n      <td>18</td>\n    </tr>\n    <tr>\n      <th>49999</th>\n      <td>7</td>\n    </tr>\n  </tbody>\n</table>\n<p>50000 rows × 1 columns</p>\n</div>"
     },
     "execution_count": 14,
     "metadata": {},
     "output_type": "execute_result"
    }
   ]
  },
  {
   "cell_type": "markdown",
   "metadata": {
    "id": "rWr-CFUHZXiM"
   },
   "source": [
    "## Accuracy as the number of principal components changes\n",
    "If PCA does a good job of capturing the underlying structure in the data as compactly as possible, the clustering should perform just as well using 10 or 50 principal components as it does using one hundred or several hundred principal components."
   ]
  },
  {
   "cell_type": "code",
   "metadata": {
    "id": "ItHASOKPvkyL",
    "executionInfo": {
     "status": "ok",
     "timestamp": 1620244427547,
     "user_tz": 240,
     "elapsed": 1055962,
     "user": {
      "displayName": "Ankur Patel",
      "photoUrl": "https://lh3.googleusercontent.com/a-/AOh14GjuyT9p2uQcITYiB6Ja4gdHeMPvvVZ_RNUvS_DFuY0=s64",
      "userId": "08322043083056308084"
     }
    }
   },
   "source": [
    "# K-means - Accuracy as the number of components varies\n",
    "\n",
    "n_clusters = 20\n",
    "n_init = 10\n",
    "max_iter = 300\n",
    "tol = 0.0001\n",
    "\n",
    "kMeans_inertia = pd.DataFrame(data=[],index=[9, 49, 99, 199, \\\n",
    "                    299, 399, 499, 599, 699, 783],columns=['inertia'])\n",
    "\n",
    "overallAccuracy_kMeansDF = pd.DataFrame(data=[],index=[9, 49, \\\n",
    "                    99, 199, 299, 399, 499, 599, 699, 783], \\\n",
    "                    columns=['overallAccuracy'])\n",
    "\n",
    "for cutoffNumber in [9, 49, 99, 199, 299, 399, 499, 599, 699, 783]:\n",
    "    kmeans = KMeans(n_clusters=n_clusters, n_init=n_init, \\\n",
    "                max_iter=max_iter, tol=tol, random_state=random_state)\n",
    "\n",
    "    cutoff = cutoffNumber\n",
    "    kmeans.fit(X_train_PCA.loc[:,0:cutoff])\n",
    "    kMeans_inertia.loc[cutoff] = kmeans.inertia_\n",
    "    X_train_kmeansClustered = kmeans.predict(X_train_PCA.loc[:,0:cutoff])\n",
    "    X_train_kmeansClustered = pd.DataFrame(data=X_train_kmeansClustered, \\\n",
    "                                index=X_train.index, columns=['cluster'])\n",
    "    \n",
    "    countByCluster_kMeans, countByLabel_kMeans, countMostFreq_kMeans, \\\n",
    "        accuracyDF_kMeans, overallAccuracy_kMeans, accuracyByLabel_kMeans \\\n",
    "        = analyzeCluster(X_train_kmeansClustered, y_train)\n",
    "    \n",
    "    overallAccuracy_kMeansDF.loc[cutoff] = overallAccuracy_kMeans"
   ],
   "execution_count": 15,
   "outputs": []
  },
  {
   "cell_type": "code",
   "metadata": {
    "colab": {
     "base_uri": "https://localhost:8080/",
     "height": 283
    },
    "id": "cAJ4ov95vkyL",
    "executionInfo": {
     "status": "ok",
     "timestamp": 1620244427901,
     "user_tz": 240,
     "elapsed": 1056314,
     "user": {
      "displayName": "Ankur Patel",
      "photoUrl": "https://lh3.googleusercontent.com/a-/AOh14GjuyT9p2uQcITYiB6Ja4gdHeMPvvVZ_RNUvS_DFuY0=s64",
      "userId": "08322043083056308084"
     }
    },
    "outputId": "0b30b0dc-026f-4265-adf7-e964d6dccdfa"
   },
   "source": [
    "# Accuracy relative to number of principal components\n",
    "overallAccuracy_kMeansDF.plot()"
   ],
   "execution_count": 16,
   "outputs": [
    {
     "data": {
      "text/plain": "<AxesSubplot:>"
     },
     "execution_count": 16,
     "metadata": {},
     "output_type": "execute_result"
    },
    {
     "data": {
      "text/plain": "<Figure size 432x288 with 1 Axes>",
      "image/png": "[encoded data removed]"
     },
     "metadata": {
      "needs_background": "light"
     },
     "output_type": "display_data"
    }
   ]
  },
  {
   "cell_type": "markdown",
   "source": [
    "As the number of principal components varies from 10 to 784, the clustering accuracy remains stable and consistent around 70%. This is one reason why clustering should be performed on dimensionality-reduced datasets — the clustering algorithms generally perform better, both in terms of time and clustering accuracy, on dimensionality-reduced datasets."
   ],
   "metadata": {
    "collapsed": false
   }
  },
  {
   "cell_type": "markdown",
   "metadata": {
    "id": "Mpq5rSP8ZgkY"
   },
   "source": [
    "## Accuracy as the number of original dimensions changes\n",
    "For the PCA-reduced dataset in the previous section, varying the number of principal components that we passed into the clustering algorithm did not affect the clustering accuracy, which remained stable and consistent at approximately 70%. Lets see if this still remains true with changing the dimension of the original dataset."
   ]
  },
  {
   "cell_type": "code",
   "metadata": {
    "colab": {
     "base_uri": "https://localhost:8080/"
    },
    "id": "WsKHF3bfvkyM",
    "executionInfo": {
     "status": "ok",
     "timestamp": 1620245018326,
     "user_tz": 240,
     "elapsed": 1646731,
     "user": {
      "displayName": "Ankur Patel",
      "photoUrl": "https://lh3.googleusercontent.com/a-/AOh14GjuyT9p2uQcITYiB6Ja4gdHeMPvvVZ_RNUvS_DFuY0=s64",
      "userId": "08322043083056308084"
     }
    },
    "outputId": "e77b766d-3af0-4190-b27c-7a0e6387c0d6"
   },
   "source": [
    "# K-means - Accuracy as the number of components varies\n",
    "# On the original MNIST data (not PCA-reduced)\n",
    "\n",
    "n_clusters = 20\n",
    "n_init = 10\n",
    "max_iter = 300\n",
    "tol = 0.0001\n",
    "\n",
    "kMeans_inertia = pd.DataFrame(data=[],index=[9, 49, 99, 199, \\\n",
    "                    299, 399, 499, 599, 699, 783],columns=['inertia'])\n",
    "\n",
    "overallAccuracy_kMeansDF = pd.DataFrame(data=[],index=[9, 49, \\\n",
    "                    99, 199, 299, 399, 499, 599, 699, 783], \\\n",
    "                    columns=['overallAccuracy'])\n",
    "\n",
    "#Pass along 10, 50, 100, 200, 300, 400, 500, 600, 700, and 784 principal components and gauge the accuracy of each clustering experiment.\n",
    "for cutoffNumber in [9, 49, 99, 199, 299, 399, 499, 599, 699, 783]:\n",
    "    kmeans = KMeans(n_clusters=n_clusters, n_init=n_init, \\\n",
    "                max_iter=max_iter, tol=tol, random_state=random_state)\n",
    "\n",
    "    cutoff = cutoffNumber\n",
    "    kmeans.fit(X_train.loc[:,0:cutoff])\n",
    "    kMeans_inertia.loc[cutoff] = kmeans.inertia_\n",
    "    X_train_kmeansClustered = kmeans.predict(X_train.loc[:,0:cutoff])\n",
    "    X_train_kmeansClustered = pd.DataFrame(data=X_train_kmeansClustered, \\\n",
    "                                index=X_train.index, columns=['cluster'])\n",
    "    \n",
    "    countByCluster_kMeans, countByLabel_kMeans, countMostFreq_kMeans, \\\n",
    "        accuracyDF_kMeans, overallAccuracy_kMeans, accuracyByLabel_kMeans \\\n",
    "        = analyzeCluster(X_train_kmeansClustered, y_train)\n",
    "    \n",
    "    overallAccuracy_kMeansDF.loc[cutoff] = overallAccuracy_kMeans"
   ],
   "execution_count": 17,
   "outputs": [
    {
     "name": "stderr",
     "output_type": "stream",
     "text": [
      "/var/folders/2d/39qb0j_s3jvg__n_84m644fc0000gn/T/ipykernel_17468/3854451747.py:22: ConvergenceWarning: Number of distinct clusters (1) found smaller than n_clusters (20). Possibly due to duplicate points in X.\n",
      "  kmeans.fit(X_train.loc[:,0:cutoff])\n"
     ]
    }
   ]
  },
  {
   "cell_type": "code",
   "metadata": {
    "colab": {
     "base_uri": "https://localhost:8080/",
     "height": 283
    },
    "id": "jCiC9npCvkyM",
    "executionInfo": {
     "status": "ok",
     "timestamp": 1620245018463,
     "user_tz": 240,
     "elapsed": 1646860,
     "user": {
      "displayName": "Ankur Patel",
      "photoUrl": "https://lh3.googleusercontent.com/a-/AOh14GjuyT9p2uQcITYiB6Ja4gdHeMPvvVZ_RNUvS_DFuY0=s64",
      "userId": "08322043083056308084"
     }
    },
    "outputId": "23dd2f06-5bf9-4a41-b28d-4802f6f2c3ac"
   },
   "source": [
    "# Accuracy relative to number of original dimensions\n",
    "overallAccuracy_kMeansDF.plot()"
   ],
   "execution_count": 18,
   "outputs": [
    {
     "data": {
      "text/plain": "<AxesSubplot:>"
     },
     "execution_count": 18,
     "metadata": {},
     "output_type": "execute_result"
    },
    {
     "data": {
      "text/plain": "<Figure size 432x288 with 1 Axes>",
      "image/png": "[encoded data removed]"
     },
     "metadata": {
      "needs_background": "light"
     },
     "output_type": "display_data"
    }
   ]
  },
  {
   "cell_type": "markdown",
   "source": [
    "As the plot shows, clustering accuracy is very poor at lower dimensions but improves to nearly 70% only as the number of dimensions climbs to six hundred dimensions.\n",
    "In the PCA case, clustering accuracy was approximately 70% even at 10 dimensions, demonstrating the power of dimensionality reduction to densely capture salient information in the original dataset."
   ],
   "metadata": {
    "collapsed": false
   }
  },
  {
   "cell_type": "markdown",
   "source": [
    "### Conclusion\n",
    "As above test cases prove, clustering should always be performed on dimensionality-reduced datasets, as outcome of the clustering will generally look\n",
    " better, both in terms of time and clustering accuracy, on dimensionality-reduced datasets."
   ],
   "metadata": {
    "collapsed": false
   }
  },
  {
   "cell_type": "code",
   "execution_count": null,
   "outputs": [],
   "source": [],
   "metadata": {
    "collapsed": false
   }
  }
 ]
}
